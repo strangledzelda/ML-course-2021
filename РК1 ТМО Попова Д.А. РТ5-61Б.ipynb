{
 "cells": [
  {
   "cell_type": "markdown",
   "metadata": {},
   "source": [
    "# Обработка пропусков в данных"
   ]
  },
  {
   "cell_type": "markdown",
   "metadata": {},
   "source": [
    "В заданном датасете необходимо обработать пропуски в данных для одного категориального и одного количественного признака."
   ]
  },
  {
   "cell_type": "code",
   "execution_count": 1,
   "metadata": {},
   "outputs": [],
   "source": [
    "import numpy as np\n",
    "import pandas as pd\n",
    "df = pd.read_csv('C:\\\\Users\\\\Дасупс\\\\Downloads\\\\restaurant_scores_lives_standard.csv')"
   ]
  },
  {
   "cell_type": "markdown",
   "metadata": {},
   "source": [
    "Посмотрим, как в целом выглядят наши данные."
   ]
  },
  {
   "cell_type": "code",
   "execution_count": 2,
   "metadata": {},
   "outputs": [
    {
     "data": {
      "text/html": [
       "<div>\n",
       "<style scoped>\n",
       "    .dataframe tbody tr th:only-of-type {\n",
       "        vertical-align: middle;\n",
       "    }\n",
       "\n",
       "    .dataframe tbody tr th {\n",
       "        vertical-align: top;\n",
       "    }\n",
       "\n",
       "    .dataframe thead th {\n",
       "        text-align: right;\n",
       "    }\n",
       "</style>\n",
       "<table border=\"1\" class=\"dataframe\">\n",
       "  <thead>\n",
       "    <tr style=\"text-align: right;\">\n",
       "      <th></th>\n",
       "      <th>business_id</th>\n",
       "      <th>business_name</th>\n",
       "      <th>business_address</th>\n",
       "      <th>business_city</th>\n",
       "      <th>business_state</th>\n",
       "      <th>business_postal_code</th>\n",
       "      <th>business_latitude</th>\n",
       "      <th>business_longitude</th>\n",
       "      <th>business_location</th>\n",
       "      <th>business_phone_number</th>\n",
       "      <th>...</th>\n",
       "      <th>inspection_type</th>\n",
       "      <th>violation_id</th>\n",
       "      <th>violation_description</th>\n",
       "      <th>risk_category</th>\n",
       "      <th>Neighborhoods (old)</th>\n",
       "      <th>Police Districts</th>\n",
       "      <th>Supervisor Districts</th>\n",
       "      <th>Fire Prevention Districts</th>\n",
       "      <th>Zip Codes</th>\n",
       "      <th>Analysis Neighborhoods</th>\n",
       "    </tr>\n",
       "  </thead>\n",
       "  <tbody>\n",
       "    <tr>\n",
       "      <th>0</th>\n",
       "      <td>101192</td>\n",
       "      <td>Cochinita #2</td>\n",
       "      <td>2 Marina Blvd Fort Mason</td>\n",
       "      <td>San Francisco</td>\n",
       "      <td>CA</td>\n",
       "      <td>NaN</td>\n",
       "      <td>NaN</td>\n",
       "      <td>NaN</td>\n",
       "      <td>NaN</td>\n",
       "      <td>1.415043e+10</td>\n",
       "      <td>...</td>\n",
       "      <td>New Ownership</td>\n",
       "      <td>NaN</td>\n",
       "      <td>NaN</td>\n",
       "      <td>NaN</td>\n",
       "      <td>NaN</td>\n",
       "      <td>NaN</td>\n",
       "      <td>NaN</td>\n",
       "      <td>NaN</td>\n",
       "      <td>NaN</td>\n",
       "      <td>NaN</td>\n",
       "    </tr>\n",
       "    <tr>\n",
       "      <th>1</th>\n",
       "      <td>97975</td>\n",
       "      <td>BREADBELLY</td>\n",
       "      <td>1408 Clement St</td>\n",
       "      <td>San Francisco</td>\n",
       "      <td>CA</td>\n",
       "      <td>94118</td>\n",
       "      <td>NaN</td>\n",
       "      <td>NaN</td>\n",
       "      <td>NaN</td>\n",
       "      <td>1.415724e+10</td>\n",
       "      <td>...</td>\n",
       "      <td>Routine - Unscheduled</td>\n",
       "      <td>97975_20190725_103124</td>\n",
       "      <td>Inadequately cleaned or sanitized food contact...</td>\n",
       "      <td>Moderate Risk</td>\n",
       "      <td>NaN</td>\n",
       "      <td>NaN</td>\n",
       "      <td>NaN</td>\n",
       "      <td>NaN</td>\n",
       "      <td>NaN</td>\n",
       "      <td>NaN</td>\n",
       "    </tr>\n",
       "    <tr>\n",
       "      <th>2</th>\n",
       "      <td>92982</td>\n",
       "      <td>Great Gold Restaurant</td>\n",
       "      <td>3161 24th St.</td>\n",
       "      <td>San Francisco</td>\n",
       "      <td>CA</td>\n",
       "      <td>94110</td>\n",
       "      <td>NaN</td>\n",
       "      <td>NaN</td>\n",
       "      <td>NaN</td>\n",
       "      <td>NaN</td>\n",
       "      <td>...</td>\n",
       "      <td>New Ownership</td>\n",
       "      <td>NaN</td>\n",
       "      <td>NaN</td>\n",
       "      <td>NaN</td>\n",
       "      <td>NaN</td>\n",
       "      <td>NaN</td>\n",
       "      <td>NaN</td>\n",
       "      <td>NaN</td>\n",
       "      <td>NaN</td>\n",
       "      <td>NaN</td>\n",
       "    </tr>\n",
       "    <tr>\n",
       "      <th>3</th>\n",
       "      <td>101389</td>\n",
       "      <td>HOMAGE</td>\n",
       "      <td>214 CALIFORNIA ST</td>\n",
       "      <td>San Francisco</td>\n",
       "      <td>CA</td>\n",
       "      <td>94111</td>\n",
       "      <td>NaN</td>\n",
       "      <td>NaN</td>\n",
       "      <td>NaN</td>\n",
       "      <td>1.415488e+10</td>\n",
       "      <td>...</td>\n",
       "      <td>New Construction</td>\n",
       "      <td>NaN</td>\n",
       "      <td>NaN</td>\n",
       "      <td>NaN</td>\n",
       "      <td>NaN</td>\n",
       "      <td>NaN</td>\n",
       "      <td>NaN</td>\n",
       "      <td>NaN</td>\n",
       "      <td>NaN</td>\n",
       "      <td>NaN</td>\n",
       "    </tr>\n",
       "    <tr>\n",
       "      <th>4</th>\n",
       "      <td>85986</td>\n",
       "      <td>Pronto Pizza</td>\n",
       "      <td>798 Eddy St</td>\n",
       "      <td>San Francisco</td>\n",
       "      <td>CA</td>\n",
       "      <td>94109</td>\n",
       "      <td>NaN</td>\n",
       "      <td>NaN</td>\n",
       "      <td>NaN</td>\n",
       "      <td>NaN</td>\n",
       "      <td>...</td>\n",
       "      <td>New Ownership</td>\n",
       "      <td>85986_20161011_103114</td>\n",
       "      <td>High risk vermin infestation</td>\n",
       "      <td>High Risk</td>\n",
       "      <td>NaN</td>\n",
       "      <td>NaN</td>\n",
       "      <td>NaN</td>\n",
       "      <td>NaN</td>\n",
       "      <td>NaN</td>\n",
       "      <td>NaN</td>\n",
       "    </tr>\n",
       "  </tbody>\n",
       "</table>\n",
       "<p>5 rows × 23 columns</p>\n",
       "</div>"
      ],
      "text/plain": [
       "   business_id          business_name          business_address  \\\n",
       "0       101192           Cochinita #2  2 Marina Blvd Fort Mason   \n",
       "1        97975             BREADBELLY           1408 Clement St   \n",
       "2        92982  Great Gold Restaurant             3161 24th St.   \n",
       "3       101389                 HOMAGE         214 CALIFORNIA ST   \n",
       "4        85986           Pronto Pizza               798 Eddy St   \n",
       "\n",
       "   business_city business_state business_postal_code  business_latitude  \\\n",
       "0  San Francisco             CA                  NaN                NaN   \n",
       "1  San Francisco             CA                94118                NaN   \n",
       "2  San Francisco             CA                94110                NaN   \n",
       "3  San Francisco             CA                94111                NaN   \n",
       "4  San Francisco             CA                94109                NaN   \n",
       "\n",
       "   business_longitude business_location  business_phone_number  ...  \\\n",
       "0                 NaN               NaN           1.415043e+10  ...   \n",
       "1                 NaN               NaN           1.415724e+10  ...   \n",
       "2                 NaN               NaN                    NaN  ...   \n",
       "3                 NaN               NaN           1.415488e+10  ...   \n",
       "4                 NaN               NaN                    NaN  ...   \n",
       "\n",
       "         inspection_type           violation_id  \\\n",
       "0          New Ownership                    NaN   \n",
       "1  Routine - Unscheduled  97975_20190725_103124   \n",
       "2          New Ownership                    NaN   \n",
       "3       New Construction                    NaN   \n",
       "4          New Ownership  85986_20161011_103114   \n",
       "\n",
       "                               violation_description  risk_category  \\\n",
       "0                                                NaN            NaN   \n",
       "1  Inadequately cleaned or sanitized food contact...  Moderate Risk   \n",
       "2                                                NaN            NaN   \n",
       "3                                                NaN            NaN   \n",
       "4                       High risk vermin infestation      High Risk   \n",
       "\n",
       "  Neighborhoods (old) Police Districts Supervisor Districts  \\\n",
       "0                 NaN              NaN                  NaN   \n",
       "1                 NaN              NaN                  NaN   \n",
       "2                 NaN              NaN                  NaN   \n",
       "3                 NaN              NaN                  NaN   \n",
       "4                 NaN              NaN                  NaN   \n",
       "\n",
       "   Fire Prevention Districts  Zip Codes  Analysis Neighborhoods  \n",
       "0                        NaN        NaN                     NaN  \n",
       "1                        NaN        NaN                     NaN  \n",
       "2                        NaN        NaN                     NaN  \n",
       "3                        NaN        NaN                     NaN  \n",
       "4                        NaN        NaN                     NaN  \n",
       "\n",
       "[5 rows x 23 columns]"
      ]
     },
     "execution_count": 2,
     "metadata": {},
     "output_type": "execute_result"
    }
   ],
   "source": [
    "df.head()"
   ]
  },
  {
   "cell_type": "code",
   "execution_count": 3,
   "metadata": {},
   "outputs": [
    {
     "data": {
      "text/plain": [
       "(53973, 23)"
      ]
     },
     "execution_count": 3,
     "metadata": {},
     "output_type": "execute_result"
    }
   ],
   "source": [
    "df.shape"
   ]
  },
  {
   "cell_type": "code",
   "execution_count": 4,
   "metadata": {},
   "outputs": [
    {
     "data": {
      "text/plain": [
       "business_id                    int64\n",
       "business_name                 object\n",
       "business_address              object\n",
       "business_city                 object\n",
       "business_state                object\n",
       "business_postal_code          object\n",
       "business_latitude            float64\n",
       "business_longitude           float64\n",
       "business_location             object\n",
       "business_phone_number        float64\n",
       "inspection_id                 object\n",
       "inspection_date               object\n",
       "inspection_score             float64\n",
       "inspection_type               object\n",
       "violation_id                  object\n",
       "violation_description         object\n",
       "risk_category                 object\n",
       "Neighborhoods (old)          float64\n",
       "Police Districts             float64\n",
       "Supervisor Districts         float64\n",
       "Fire Prevention Districts    float64\n",
       "Zip Codes                    float64\n",
       "Analysis Neighborhoods       float64\n",
       "dtype: object"
      ]
     },
     "execution_count": 4,
     "metadata": {},
     "output_type": "execute_result"
    }
   ],
   "source": [
    "df.dtypes"
   ]
  },
  {
   "cell_type": "markdown",
   "metadata": {},
   "source": [
    "## Количественные признаки"
   ]
  },
  {
   "cell_type": "markdown",
   "metadata": {},
   "source": [
    "Выведем количество пропусков в каждой колонке с числовыми данными с процентным соотношением и типом данных в этой колонке."
   ]
  },
  {
   "cell_type": "code",
   "execution_count": 5,
   "metadata": {},
   "outputs": [
    {
     "name": "stdout",
     "output_type": "stream",
     "text": [
      "В колонке business_latitude типа float64 19556 пропусков, 36.23%\n",
      "В колонке business_longitude типа float64 19556 пропусков, 36.23%\n",
      "В колонке business_phone_number типа float64 36938 пропусков, 68.44%\n",
      "В колонке inspection_score типа float64 13610 пропусков, 25.22%\n",
      "В колонке Neighborhoods (old) типа float64 19594 пропусков, 36.3%\n",
      "В колонке Police Districts типа float64 19594 пропусков, 36.3%\n",
      "В колонке Supervisor Districts типа float64 19594 пропусков, 36.3%\n",
      "В колонке Fire Prevention Districts типа float64 19646 пропусков, 36.4%\n",
      "В колонке Zip Codes типа float64 19576 пропусков, 36.27%\n",
      "В колонке Analysis Neighborhoods типа float64 19594 пропусков, 36.3%\n"
     ]
    }
   ],
   "source": [
    "for column in df.columns:\n",
    "    empties = df[df[column].isnull()].shape[0]\n",
    "    if empties > 0 and df[column].dtype == 'float64' :\n",
    "        print(f'В колонке {column} типа {df[column].dtype} {empties} пропусков, {round(empties/df.shape[0] * 100, 2)}%')"
   ]
  },
  {
   "cell_type": "markdown",
   "metadata": {},
   "source": [
    "Сделаем некоторые выводы о количественных признаках:\n",
    "* У большинства (8 из 10) фичей утеряны более трети данных, их можно заполнить, но это может сказаться на качестве модели. Их скорее можно включить при построении.\n",
    "* У признака business_phone_number пропущено почти 70% строк - это недопустимо много, эту колонку лучше отбросить перед построением модели.\n",
    "* В колонке inspection_score около четверти пропусков: это всё ещё достаточно много, но эту колонку можно включать в модель."
   ]
  },
  {
   "cell_type": "markdown",
   "metadata": {},
   "source": [
    "Будем заполнять пропущенные значения в колонке inspection_score, где наименьший процент пропущенных значений."
   ]
  },
  {
   "cell_type": "markdown",
   "metadata": {},
   "source": [
    "Сначала можно на гистограмме посмотреть, как распределены значения у признака."
   ]
  },
  {
   "cell_type": "code",
   "execution_count": 6,
   "metadata": {},
   "outputs": [],
   "source": [
    "import matplotlib.pyplot as plt\n",
    "%matplotlib inline "
   ]
  },
  {
   "cell_type": "code",
   "execution_count": 7,
   "metadata": {},
   "outputs": [
    {
     "data": {
      "text/plain": [
       "(array([   24.,    71.,   231.,   626.,  1977.,  3278.,  7009.,  9674.,\n",
       "        11897.,  5576.]),\n",
       " array([ 45. ,  50.5,  56. ,  61.5,  67. ,  72.5,  78. ,  83.5,  89. ,\n",
       "         94.5, 100. ]),\n",
       " <BarContainer object of 10 artists>)"
      ]
     },
     "execution_count": 7,
     "metadata": {},
     "output_type": "execute_result"
    },
    {
     "data": {
      "image/png": "[encoded data removed]",
      "text/plain": [
       "<Figure size 432x288 with 1 Axes>"
      ]
     },
     "metadata": {
      "needs_background": "light"
     },
     "output_type": "display_data"
    }
   ],
   "source": [
    "plt.hist(df.inspection_score)"
   ]
  },
  {
   "cell_type": "markdown",
   "metadata": {},
   "source": [
    "На гистограмме видно, что распределение признака довольно сильно отличается от нормального, при этом является одномодальным. В таком случае стратегия замены пропущенных значений средним (strategy='mean') не совсем корректно, поэтому воспользуемся, например, модой."
   ]
  },
  {
   "cell_type": "markdown",
   "metadata": {},
   "source": [
    "Посмотрим на общие характеристики данных в колонке."
   ]
  },
  {
   "cell_type": "code",
   "execution_count": 8,
   "metadata": {},
   "outputs": [
    {
     "data": {
      "text/plain": [
       "count    40363.000000\n",
       "mean        86.226792\n",
       "std          8.462915\n",
       "min         45.000000\n",
       "25%         81.000000\n",
       "50%         87.000000\n",
       "75%         92.000000\n",
       "max        100.000000\n",
       "Name: inspection_score, dtype: float64"
      ]
     },
     "execution_count": 8,
     "metadata": {},
     "output_type": "execute_result"
    }
   ],
   "source": [
    "df.inspection_score.describe()"
   ]
  },
  {
   "cell_type": "code",
   "execution_count": 9,
   "metadata": {},
   "outputs": [],
   "source": [
    "from sklearn.impute import SimpleImputer"
   ]
  },
  {
   "cell_type": "code",
   "execution_count": 10,
   "metadata": {},
   "outputs": [],
   "source": [
    "imputer = SimpleImputer(missing_values=np.nan, strategy='most_frequent')"
   ]
  },
  {
   "cell_type": "code",
   "execution_count": 11,
   "metadata": {},
   "outputs": [],
   "source": [
    "df.inspection_score = imputer.fit_transform(df[['inspection_score']])"
   ]
  },
  {
   "cell_type": "code",
   "execution_count": 12,
   "metadata": {},
   "outputs": [
    {
     "data": {
      "text/plain": [
       "(array([2.4000e+01, 7.1000e+01, 2.3100e+02, 6.2600e+02, 1.9770e+03,\n",
       "        3.2780e+03, 7.0090e+03, 9.6740e+03, 2.5507e+04, 5.5760e+03]),\n",
       " array([ 45. ,  50.5,  56. ,  61.5,  67. ,  72.5,  78. ,  83.5,  89. ,\n",
       "         94.5, 100. ]),\n",
       " <BarContainer object of 10 artists>)"
      ]
     },
     "execution_count": 12,
     "metadata": {},
     "output_type": "execute_result"
    },
    {
     "data": {
      "image/png": "[encoded data removed]",
      "text/plain": [
       "<Figure size 432x288 with 1 Axes>"
      ]
     },
     "metadata": {
      "needs_background": "light"
     },
     "output_type": "display_data"
    }
   ],
   "source": [
    "plt.hist(df.inspection_score)"
   ]
  },
  {
   "cell_type": "markdown",
   "metadata": {},
   "source": [
    "На гистограмме видно, как изменилось распределение признака."
   ]
  },
  {
   "cell_type": "code",
   "execution_count": 13,
   "metadata": {},
   "outputs": [
    {
     "data": {
      "text/plain": [
       "count    53973.000000\n",
       "mean        87.178256\n",
       "std          7.499685\n",
       "min         45.000000\n",
       "25%         84.000000\n",
       "50%         90.000000\n",
       "75%         90.000000\n",
       "max        100.000000\n",
       "Name: inspection_score, dtype: float64"
      ]
     },
     "execution_count": 13,
     "metadata": {},
     "output_type": "execute_result"
    }
   ],
   "source": [
    "df.inspection_score.describe()"
   ]
  },
  {
   "cell_type": "code",
   "execution_count": 14,
   "metadata": {},
   "outputs": [
    {
     "data": {
      "text/plain": [
       "False"
      ]
     },
     "execution_count": 14,
     "metadata": {},
     "output_type": "execute_result"
    }
   ],
   "source": [
    "df.inspection_score.isnull().any()"
   ]
  },
  {
   "cell_type": "markdown",
   "metadata": {},
   "source": [
    "Пропущенных значений в колонке больше нет."
   ]
  },
  {
   "cell_type": "markdown",
   "metadata": {},
   "source": [
    "## Категориальные признаки"
   ]
  },
  {
   "cell_type": "markdown",
   "metadata": {},
   "source": [
    "Выведем количество пропусков в каждой категориальной колонке с процентным соотношением и типом данных в этой колонке."
   ]
  },
  {
   "cell_type": "code",
   "execution_count": 15,
   "metadata": {},
   "outputs": [
    {
     "name": "stdout",
     "output_type": "stream",
     "text": [
      "В колонке business_postal_code типа object 1018 пропусков, 1.89%\n",
      "В колонке business_location типа object 19556 пропусков, 36.23%\n",
      "В колонке violation_id типа object 12870 пропусков, 23.85%\n",
      "В колонке violation_description типа object 12870 пропусков, 23.85%\n",
      "В колонке risk_category типа object 12870 пропусков, 23.85%\n"
     ]
    }
   ],
   "source": [
    "for column in df.columns:\n",
    "    empties = df[df[column].isnull()].shape[0]\n",
    "    if empties > 0 and df[column].dtype == 'object' :\n",
    "        print(f'В колонке {column} типа {df[column].dtype} {empties} пропусков, {round(empties/df.shape[0] * 100, 2)}%')"
   ]
  },
  {
   "cell_type": "markdown",
   "metadata": {},
   "source": [
    "Сделаем также выводы о категориальных признаках:\n",
    "* В колонке business_location пропусков больше трети, это значительное упущение данных и, возможно, колонку не стоило бы использовать для построения модели.\n",
    "* В колонке business_postal_code число пропущенных значений минимально (меньше 2%), её было бы просто замечательно использовать для построения модели. \n",
    "* В колонках violation_id, violation_description, risk_category пропущенных строк чуть меньше четверти, мы вполне можем восстановить данные в одной из этих колонок и включить их в модель."
   ]
  },
  {
   "cell_type": "code",
   "execution_count": 16,
   "metadata": {},
   "outputs": [
    {
     "data": {
      "text/plain": [
       "array([nan, '94118', '94110', '94111', '94109', '94107', '94133', '94117',\n",
       "       '94103', '94121', '94108', '94102', '94132', '94104', '94122',\n",
       "       '94123', '94112', '94115', '94105', '94188', '94114', '94124',\n",
       "       '94158', '94116', '94134', '94130', '94127', '94131', '94124-1917',\n",
       "       'Ca', '94101', '94117-3504', '95122', '64110', '94544', '94143',\n",
       "       '94080', '95132', '95112', '94102-5917', '94105-2907', '94013',\n",
       "       '94301', '94120', '94105-1420', '94123-3106', '95105', '94602',\n",
       "       '00000', '941102019', '94901', '94518', '95133', '95117', '94621',\n",
       "       '94122-1909', '94129', '941033148', 'CA', '941', '92672', '95109'],\n",
       "      dtype=object)"
      ]
     },
     "execution_count": 16,
     "metadata": {},
     "output_type": "execute_result"
    }
   ],
   "source": [
    "df.business_postal_code.unique()"
   ]
  },
  {
   "cell_type": "markdown",
   "metadata": {},
   "source": [
    "Как мы видим,business_postal_code, возможно, стоило бы преобразовать в числовой признак (за исключением значений с \"-\" и \"СА\")."
   ]
  },
  {
   "cell_type": "markdown",
   "metadata": {},
   "source": [
    "Признак violation_id, скорее всего, содержит в основном числовые значения с некоторыми другими символами."
   ]
  },
  {
   "cell_type": "code",
   "execution_count": 17,
   "metadata": {},
   "outputs": [
    {
     "data": {
      "text/plain": [
       "array([nan, '97975_20190725_103124', '85986_20161011_103114', ...,\n",
       "       '84541_20190506_103133', '91572_20190506_103116',\n",
       "       '89569_20190506_103157'], dtype=object)"
      ]
     },
     "execution_count": 17,
     "metadata": {},
     "output_type": "execute_result"
    }
   ],
   "source": [
    "df.violation_id.unique()"
   ]
  },
  {
   "cell_type": "markdown",
   "metadata": {},
   "source": [
    "Так и есть."
   ]
  },
  {
   "cell_type": "code",
   "execution_count": 18,
   "metadata": {},
   "outputs": [
    {
     "data": {
      "text/plain": [
       "65"
      ]
     },
     "execution_count": 18,
     "metadata": {},
     "output_type": "execute_result"
    }
   ],
   "source": [
    "df.violation_description.nunique() "
   ]
  },
  {
   "cell_type": "code",
   "execution_count": 19,
   "metadata": {},
   "outputs": [
    {
     "data": {
      "text/plain": [
       "3"
      ]
     },
     "execution_count": 19,
     "metadata": {},
     "output_type": "execute_result"
    }
   ],
   "source": [
    "df.risk_category.nunique() "
   ]
  },
  {
   "cell_type": "markdown",
   "metadata": {},
   "source": [
    "В категориальном признаке risk_category есть всего 3 уникальных значения, тогда как в violation_description их 65. Заполнять пропуски мы будем там, где диверсификация значений меньше, т.е. в колонке с категорией риска."
   ]
  },
  {
   "cell_type": "code",
   "execution_count": 20,
   "metadata": {},
   "outputs": [
    {
     "data": {
      "text/plain": [
       "array([nan, 'Moderate Risk', 'High Risk', 'Low Risk'], dtype=object)"
      ]
     },
     "execution_count": 20,
     "metadata": {},
     "output_type": "execute_result"
    }
   ],
   "source": [
    "df.risk_category.unique() "
   ]
  },
  {
   "cell_type": "markdown",
   "metadata": {},
   "source": [
    "Посмотрим, как распределены значения этих признаков по данным."
   ]
  },
  {
   "cell_type": "code",
   "execution_count": 21,
   "metadata": {},
   "outputs": [
    {
     "data": {
      "text/plain": [
       "Low Risk         19505\n",
       "Moderate Risk    15615\n",
       "High Risk         5983\n",
       "Name: risk_category, dtype: int64"
      ]
     },
     "execution_count": 21,
     "metadata": {},
     "output_type": "execute_result"
    }
   ],
   "source": [
    "df.risk_category.value_counts()"
   ]
  },
  {
   "cell_type": "code",
   "execution_count": 22,
   "metadata": {},
   "outputs": [],
   "source": [
    "# plt.hist(df.risk_category)\n",
    "# почему-то именно здесь ноутбук отчаянно не хотел рисовать мне гистограмму и ругался на то, что признак нечисловой"
   ]
  },
  {
   "cell_type": "markdown",
   "metadata": {},
   "source": [
    "Наиболее часто встречающимся значением является 'Low Risk'. Именно этим значением - своего рода \"модой\" - будем заполнять пропуски в этом столбце. (Другой вопрос: насколько правильно мы поступаем, относя строки с пропусками значениями к \"низкому риску\" и не можем ли мы в этой связи упустить потенциально рискованные кейсы.)"
   ]
  },
  {
   "cell_type": "code",
   "execution_count": 23,
   "metadata": {},
   "outputs": [],
   "source": [
    "imputer_cat = SimpleImputer(missing_values=np.nan, strategy='most_frequent')"
   ]
  },
  {
   "cell_type": "code",
   "execution_count": 24,
   "metadata": {},
   "outputs": [],
   "source": [
    "df.risk_category = imputer_cat.fit_transform(df[['risk_category']])"
   ]
  },
  {
   "cell_type": "code",
   "execution_count": 25,
   "metadata": {},
   "outputs": [
    {
     "data": {
      "text/plain": [
       "False"
      ]
     },
     "execution_count": 25,
     "metadata": {},
     "output_type": "execute_result"
    }
   ],
   "source": [
    "df.risk_category.isnull().any()"
   ]
  },
  {
   "cell_type": "markdown",
   "metadata": {},
   "source": [
    "Ещё раз проверим, как теперь распределены значения."
   ]
  },
  {
   "cell_type": "code",
   "execution_count": 26,
   "metadata": {},
   "outputs": [
    {
     "data": {
      "text/plain": [
       "Low Risk         32375\n",
       "Moderate Risk    15615\n",
       "High Risk         5983\n",
       "Name: risk_category, dtype: int64"
      ]
     },
     "execution_count": 26,
     "metadata": {},
     "output_type": "execute_result"
    }
   ],
   "source": [
    "df.risk_category.value_counts()"
   ]
  },
  {
   "cell_type": "code",
   "execution_count": 27,
   "metadata": {},
   "outputs": [
    {
     "data": {
      "text/plain": [
       "(array([32375.,     0.,     0.,     0.,     0., 15615.,     0.,     0.,\n",
       "            0.,  5983.]),\n",
       " array([0. , 0.2, 0.4, 0.6, 0.8, 1. , 1.2, 1.4, 1.6, 1.8, 2. ]),\n",
       " <BarContainer object of 10 artists>)"
      ]
     },
     "execution_count": 27,
     "metadata": {},
     "output_type": "execute_result"
    },
    {
     "data": {
      "image/png": "[encoded data removed]",
      "text/plain": [
       "<Figure size 432x288 with 1 Axes>"
      ]
     },
     "metadata": {
      "needs_background": "light"
     },
     "output_type": "display_data"
    }
   ],
   "source": [
    "plt.hist(df.risk_category)"
   ]
  },
  {
   "cell_type": "markdown",
   "metadata": {},
   "source": [
    "Естественно, число образцов со значением 'Low Risk' у нас значительно возросло, но и пропусков в данных в этой колонке больше нет."
   ]
  },
  {
   "cell_type": "markdown",
   "metadata": {},
   "source": [
    "## Дополнительное задание"
   ]
  },
  {
   "cell_type": "markdown",
   "metadata": {},
   "source": [
    "В качестве дополнительного задания для группы РТ5-61Б необходимо построить Jointplot. Построим его для количественных признаков inspection_score и Neighborhoods (old)."
   ]
  },
  {
   "cell_type": "markdown",
   "metadata": {},
   "source": [
    "Для начала заполним пропуски в Neighborhoods (old)."
   ]
  },
  {
   "cell_type": "code",
   "execution_count": 28,
   "metadata": {},
   "outputs": [],
   "source": [
    "import seaborn as sns"
   ]
  },
  {
   "cell_type": "code",
   "execution_count": 29,
   "metadata": {},
   "outputs": [
    {
     "data": {
      "text/plain": [
       "19594"
      ]
     },
     "execution_count": 29,
     "metadata": {},
     "output_type": "execute_result"
    }
   ],
   "source": [
    "df['Neighborhoods (old)'].isnull().sum()"
   ]
  },
  {
   "cell_type": "code",
   "execution_count": 30,
   "metadata": {},
   "outputs": [],
   "source": [
    "neigh_imputer = SimpleImputer(missing_values=np.nan, strategy='most_frequent')"
   ]
  },
  {
   "cell_type": "code",
   "execution_count": 31,
   "metadata": {},
   "outputs": [],
   "source": [
    "df['Neighborhoods (old)'] = neigh_imputer.fit_transform(df[['Neighborhoods (old)']])"
   ]
  },
  {
   "cell_type": "code",
   "execution_count": 32,
   "metadata": {},
   "outputs": [
    {
     "data": {
      "text/plain": [
       "0"
      ]
     },
     "execution_count": 32,
     "metadata": {},
     "output_type": "execute_result"
    }
   ],
   "source": [
    "df['Neighborhoods (old)'].isnull().sum()"
   ]
  },
  {
   "cell_type": "code",
   "execution_count": 33,
   "metadata": {},
   "outputs": [
    {
     "data": {
      "text/plain": [
       "<seaborn.axisgrid.JointGrid at 0x21123a154f0>"
      ]
     },
     "execution_count": 33,
     "metadata": {},
     "output_type": "execute_result"
    },
    {
     "data": {
      "image/png": "[encoded data removed]",
      "text/plain": [
       "<Figure size 432x432 with 3 Axes>"
      ]
     },
     "metadata": {
      "needs_background": "light"
     },
     "output_type": "display_data"
    }
   ],
   "source": [
    "sns.jointplot(data=df,x=\"inspection_score\",y=\"Neighborhoods (old)\")"
   ]
  }
 ],
 "metadata": {
  "kernelspec": {
   "display_name": "Python 3",
   "language": "python",
   "name": "python3"
  },
  "language_info": {
   "codemirror_mode": {
    "name": "ipython",
    "version": 3
   },
   "file_extension": ".py",
   "mimetype": "text/x-python",
   "name": "python",
   "nbconvert_exporter": "python",
   "pygments_lexer": "ipython3",
   "version": "3.8.5"
  }
 },
 "nbformat": 4,
 "nbformat_minor": 4
}
